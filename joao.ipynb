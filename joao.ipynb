{
 "cells": [
  {
   "cell_type": "code",
   "execution_count": 3,
   "metadata": {},
   "outputs": [
    {
     "name": "stdout",
     "output_type": "stream",
     "text": [
      "10\n"
     ]
    }
   ],
   "source": [
    "a = 10\n",
    "print(a)"
   ]
  },
  {
   "cell_type": "code",
   "execution_count": 6,
   "metadata": {},
   "outputs": [
    {
     "name": "stdout",
     "output_type": "stream",
     "text": [
      "eu\n"
     ]
    }
   ],
   "source": [
    "a = input(\"digite um nome: \")\n",
    "print(a)"
   ]
  },
  {
   "cell_type": "code",
   "execution_count": 7,
   "metadata": {},
   "outputs": [
    {
     "name": "stdout",
     "output_type": "stream",
     "text": [
      "o resultado é 10.0\n"
     ]
    }
   ],
   "source": [
    "n1 = float(input(\"digite um numero:\"))\n",
    "n2 = float(input(\"digite o segundo numero\"))\n",
    "resultado = n1 + n2 \n",
    "print(f\"o resultado é {resultado}\")"
   ]
  },
  {
   "cell_type": "code",
   "execution_count": 11,
   "metadata": {},
   "outputs": [
    {
     "name": "stdout",
     "output_type": "stream",
     "text": [
      "a velocidade media é : 3.0 km\n"
     ]
    }
   ],
   "source": [
    "n1 = int(input(\"qual é a distancia percorrida em km?\"))\n",
    "n2 = float(input(\"tempo gasto em horas.\"))\n",
    "v = n1 / n2\n",
    "print(f\"a velocidade media é : {v} km\")"
   ]
  },
  {
   "cell_type": "code",
   "execution_count": 12,
   "metadata": {},
   "outputs": [
    {
     "name": "stdout",
     "output_type": "stream",
     "text": [
      "<class 'str'>\n",
      "<class 'str'>\n",
      "<class 'float'>\n"
     ]
    }
   ],
   "source": [
    "print(type(\"python\"))\n",
    "print(type(\"copiarEcolar\"))\n",
    "print(type(10/3))"
   ]
  },
  {
   "cell_type": "code",
   "execution_count": 9,
   "metadata": {},
   "outputs": [
    {
     "name": "stdout",
     "output_type": "stream",
     "text": [
      "reprovado\n"
     ]
    }
   ],
   "source": [
    "nota = float(input(\"qual sua nota?\"))\n",
    "if nota > 7:\n",
    "    print(\"aprovado\")\n",
    "else:\n",
    "    print(\"reprovado\")    \n",
    "\n"
   ]
  },
  {
   "cell_type": "code",
   "execution_count": 4,
   "metadata": {},
   "outputs": [
    {
     "name": "stdout",
     "output_type": "stream",
     "text": [
      "impar\n"
     ]
    }
   ],
   "source": [
    "n = float(input(\"Digite um numero:\"))\n",
    "if n % 2 ==  0:\n",
    "    print(\"par\")\n",
    "else:\n",
    "    print(\"impar\")"
   ]
  },
  {
   "cell_type": "code",
   "execution_count": 11,
   "metadata": {},
   "outputs": [
    {
     "name": "stdout",
     "output_type": "stream",
     "text": [
      "acesso concedido\n"
     ]
    }
   ],
   "source": [
    "login = input(\"Login:\")\n",
    "senha = input(\"senha:\")\n",
    "\n",
    "usuario = \"admin\"\n",
    "senhacorreta = \"1234\"\n",
    "\n",
    "if login == usuario and senha == senhacorreta:\n",
    "    print(\"acesso concedido\")\n",
    "else:\n",
    "    print(\"Acesso negado\")"
   ]
  },
  {
   "cell_type": "code",
   "execution_count": 7,
   "metadata": {},
   "outputs": [
    {
     "data": {
      "text/plain": [
       "101"
      ]
     },
     "execution_count": 7,
     "metadata": {},
     "output_type": "execute_result"
    }
   ],
   "source": [
    "x = int(input(\"numero 1\"))\n",
    "y = int(input(\"numero 2\"))\n",
    "\n",
    "def soma(x,y):\n",
    "    return x+y\n",
    "\n",
    "soma(x,y)"
   ]
  },
  {
   "cell_type": "code",
   "execution_count": 13,
   "metadata": {},
   "outputs": [
    {
     "data": {
      "text/plain": [
       "10.0"
      ]
     },
     "execution_count": 13,
     "metadata": {},
     "output_type": "execute_result"
    }
   ],
   "source": [
    "x = int(input(\"numero 1\"))\n",
    "y = int(input(\"numero 2\"))\n",
    "\n",
    "def soma(x,y):\n",
    "    return (x/100) *y\n",
    "\n",
    "soma(x,y)"
   ]
  },
  {
   "cell_type": "code",
   "execution_count": 17,
   "metadata": {},
   "outputs": [
    {
     "ename": "TypeError",
     "evalue": "soma() missing 1 required positional argument: 'b'",
     "output_type": "error",
     "traceback": [
      "\u001b[1;31m---------------------------------------------------------------------------\u001b[0m",
      "\u001b[1;31mTypeError\u001b[0m                                 Traceback (most recent call last)",
      "Cell \u001b[1;32mIn[17], line 10\u001b[0m\n\u001b[0;32m      7\u001b[0m a \u001b[38;5;241m=\u001b[39m \u001b[38;5;28mfloat\u001b[39m(\u001b[38;5;28minput\u001b[39m(\u001b[38;5;124m\"\u001b[39m\u001b[38;5;124mnumero 1\u001b[39m\u001b[38;5;124m\"\u001b[39m))\n\u001b[0;32m      8\u001b[0m b \u001b[38;5;241m=\u001b[39m \u001b[38;5;28mfloat\u001b[39m(\u001b[38;5;28minput\u001b[39m(\u001b[38;5;124m\"\u001b[39m\u001b[38;5;124mnumero 2\u001b[39m\u001b[38;5;124m\"\u001b[39m))\n\u001b[1;32m---> 10\u001b[0m calc \u001b[38;5;241m=\u001b[39m \u001b[43msoma\u001b[49m\u001b[43m(\u001b[49m\u001b[43ma\u001b[49m\u001b[38;5;241;43m+\u001b[39;49m\u001b[43mb\u001b[49m\u001b[43m)\u001b[49m\n\u001b[0;32m     11\u001b[0m operacao \u001b[38;5;241m=\u001b[39m calc\n\u001b[0;32m     12\u001b[0m resultado \u001b[38;5;241m=\u001b[39m calc\n",
      "\u001b[1;31mTypeError\u001b[0m: soma() missing 1 required positional argument: 'b'"
     ]
    }
   ],
   "source": [
    "\n",
    "def soma(a,b):\n",
    "    return a+b\n",
    "\n",
    "def porc(x,y):\n",
    "    return (x/100) *y\n",
    "\n",
    "a = float(input(\"numero 1\"))\n",
    "b = float(input(\"numero 2\"))\n",
    "\n",
    "calc = soma(a+b)\n",
    "operacao = calc\n",
    "resultado = calc\n",
    "\n",
    "print(f'o resultado da operação de {operacao} {a} e {b} é {resultado}')"
   ]
  },
  {
   "cell_type": "code",
   "execution_count": 8,
   "metadata": {},
   "outputs": [
    {
     "name": "stdout",
     "output_type": "stream",
     "text": [
      "resultado: 4\n"
     ]
    }
   ],
   "source": [
    "def pot(b,e):\n",
    "    match e:\n",
    "        case 0:\n",
    "         resultado = 1\n",
    "        case 1:\n",
    "         resultado = b\n",
    "        case _:\n",
    "            resultado = b ** e\n",
    "            return resultado\n",
    "        \n",
    "b = int(input(\"qual a base:\"))\n",
    "e = int(input(\"qual o expoente\"))\n",
    "\n",
    "print(\"resultado:\", pot(b,e))\n",
    "        "
   ]
  },
  {
   "cell_type": "code",
   "execution_count": 19,
   "metadata": {},
   "outputs": [
    {
     "name": "stdout",
     "output_type": "stream",
     "text": [
      "A raiz quadrada de 16.0 é 4.0\n"
     ]
    }
   ],
   "source": [
    "\n",
    "import math\n",
    "\n",
    "numero = float(input(\"qual o numero: \"))\n",
    "raiz = math.sqrt(numero)\n",
    "\n",
    "print(f\"A raiz quadrada de {numero} é {raiz}\")\n",
    "\n"
   ]
  }
 ],
 "metadata": {
  "kernelspec": {
   "display_name": "Python 3",
   "language": "python",
   "name": "python3"
  },
  "language_info": {
   "codemirror_mode": {
    "name": "ipython",
    "version": 3
   },
   "file_extension": ".py",
   "mimetype": "text/x-python",
   "name": "python",
   "nbconvert_exporter": "python",
   "pygments_lexer": "ipython3",
   "version": "3.12.4"
  }
 },
 "nbformat": 4,
 "nbformat_minor": 2
}
