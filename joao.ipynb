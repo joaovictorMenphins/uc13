{
 "cells": [
  {
   "cell_type": "code",
   "execution_count": 3,
   "metadata": {},
   "outputs": [
    {
     "name": "stdout",
     "output_type": "stream",
     "text": [
      "10\n"
     ]
    }
   ],
   "source": [
    "a = 10\n",
    "print(a)"
   ]
  },
  {
   "cell_type": "code",
   "execution_count": 6,
   "metadata": {},
   "outputs": [
    {
     "name": "stdout",
     "output_type": "stream",
     "text": [
      "eu\n"
     ]
    }
   ],
   "source": [
    "a = input(\"digite um nome: \")\n",
    "print(a)"
   ]
  },
  {
   "cell_type": "code",
   "execution_count": 7,
   "metadata": {},
   "outputs": [
    {
     "name": "stdout",
     "output_type": "stream",
     "text": [
      "o resultado é 10.0\n"
     ]
    }
   ],
   "source": [
    "n1 = float(input(\"digite um numero:\"))\n",
    "n2 = float(input(\"digite o segundo numero\"))\n",
    "resultado = n1 + n2 \n",
    "print(f\"o resultado é {resultado}\")"
   ]
  },
  {
   "cell_type": "code",
   "execution_count": 11,
   "metadata": {},
   "outputs": [
    {
     "name": "stdout",
     "output_type": "stream",
     "text": [
      "a velocidade media é : 3.0 km\n"
     ]
    }
   ],
   "source": [
    "n1 = int(input(\"qual é a distancia percorrida em km?\"))\n",
    "n2 = float(input(\"tempo gasto em horas.\"))\n",
    "v = n1 / n2\n",
    "print(f\"a velocidade media é : {v} km\")"
   ]
  },
  {
   "cell_type": "code",
   "execution_count": 12,
   "metadata": {},
   "outputs": [
    {
     "name": "stdout",
     "output_type": "stream",
     "text": [
      "<class 'str'>\n",
      "<class 'str'>\n",
      "<class 'float'>\n"
     ]
    }
   ],
   "source": [
    "print(type(\"python\"))\n",
    "print(type(\"copiarEcolar\"))\n",
    "print(type(10/3))"
   ]
  },
  {
   "cell_type": "code",
   "execution_count": 9,
   "metadata": {},
   "outputs": [
    {
     "name": "stdout",
     "output_type": "stream",
     "text": [
      "reprovado\n"
     ]
    }
   ],
   "source": [
    "nota = float(input(\"qual sua nota?\"))\n",
    "if nota > 7:\n",
    "    print(\"aprovado\")\n",
    "else:\n",
    "    print(\"reprovado\")    \n",
    "\n"
   ]
  },
  {
   "cell_type": "code",
   "execution_count": 4,
   "metadata": {},
   "outputs": [
    {
     "name": "stdout",
     "output_type": "stream",
     "text": [
      "impar\n"
     ]
    }
   ],
   "source": [
    "n = float(input(\"Digite um numero:\"))\n",
    "if n % 2 ==  0:\n",
    "    print(\"par\")\n",
    "else:\n",
    "    print(\"impar\")"
   ]
  },
  {
   "cell_type": "code",
   "execution_count": 11,
   "metadata": {},
   "outputs": [
    {
     "name": "stdout",
     "output_type": "stream",
     "text": [
      "acesso concedido\n"
     ]
    }
   ],
   "source": [
    "login = input(\"Login:\")\n",
    "senha = input(\"senha:\")\n",
    "\n",
    "usuario = \"admin\"\n",
    "senhacorreta = \"1234\"\n",
    "\n",
    "if login == usuario and senha == senhacorreta:\n",
    "    print(\"acesso concedido\")\n",
    "else:\n",
    "    print(\"Acesso negado\")"
   ]
  }
 ],
 "metadata": {
  "kernelspec": {
   "display_name": "Python 3",
   "language": "python",
   "name": "python3"
  },
  "language_info": {
   "codemirror_mode": {
    "name": "ipython",
    "version": 3
   },
   "file_extension": ".py",
   "mimetype": "text/x-python",
   "name": "python",
   "nbconvert_exporter": "python",
   "pygments_lexer": "ipython3",
   "version": "3.12.4"
  }
 },
 "nbformat": 4,
 "nbformat_minor": 2
}
